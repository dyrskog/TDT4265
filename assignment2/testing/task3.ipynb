{
 "cells": [
  {
   "cell_type": "code",
   "execution_count": 1,
   "metadata": {},
   "outputs": [],
   "source": [
    "import utils\n",
    "import matplotlib.pyplot as plt\n",
    "from task2a import pre_process_images, one_hot_encode, SoftmaxModel\n",
    "from task2 import SoftmaxTrainer"
   ]
  },
  {
   "cell_type": "code",
   "execution_count": 2,
   "metadata": {},
   "outputs": [
    {
     "name": "stdout",
     "output_type": "stream",
     "text": [
      "Train shape: X: (20000, 784), Y: (20000, 1)\n",
      "Validation shape: X: (10000, 784), Y: (10000, 1)\n",
      "mean = 33.55274553571429, std = 78.87550070784701\n",
      "mean = 33.791224489795916, std = 79.17246322228644\n"
     ]
    }
   ],
   "source": [
    "# hyperparameters DO NOT CHANGE IF NOT SPECIFIED IN ASSIGNMENT TEXT\n",
    "num_epochs = 50\n",
    "learning_rate = .1\n",
    "batch_size = 32\n",
    "neurons_per_layer = [64, 10]\n",
    "momentum_gamma = .9  # Task 3 hyperparameter\n",
    "shuffle_data = True\n",
    "\n",
    "# Load dataset\n",
    "X_train, Y_train, X_val, Y_val = utils.load_full_mnist()\n",
    "X_train = pre_process_images(X_train)\n",
    "X_val = pre_process_images(X_val)\n",
    "Y_train = one_hot_encode(Y_train, 10)\n",
    "Y_val = one_hot_encode(Y_val, 10)\n",
    "\n",
    "def train_base_model():\n",
    "    use_improved_sigmoid = False\n",
    "    use_improved_weight_init = False\n",
    "    use_momentum = False\n",
    "    use_relu = False\n",
    "    model = SoftmaxModel(\n",
    "        neurons_per_layer,\n",
    "        use_improved_sigmoid,\n",
    "        use_improved_weight_init,\n",
    "        use_relu)\n",
    "    trainer = SoftmaxTrainer(\n",
    "        momentum_gamma, use_momentum,\n",
    "        model, learning_rate, batch_size, shuffle_data,\n",
    "        X_train, Y_train, X_val, Y_val,\n",
    "    )\n",
    "    train_history, val_history = trainer.train(num_epochs)\n",
    "    return train_history, val_history"
   ]
  },
  {
   "cell_type": "code",
   "execution_count": 3,
   "metadata": {},
   "outputs": [],
   "source": [
    "def improve_model(use_improved_weight_init = False, use_improved_sigmoid = False,  use_momentum = False):\n",
    "# Train a new model with new parameters\n",
    "    use_relu = False\n",
    "    model_improved = SoftmaxModel(\n",
    "        neurons_per_layer,\n",
    "        use_improved_sigmoid,\n",
    "        use_improved_weight_init,\n",
    "        use_relu)\n",
    "    trainer_improved = SoftmaxTrainer(\n",
    "        momentum_gamma, use_momentum,\n",
    "        model_improved, learning_rate, batch_size, shuffle_data,\n",
    "        X_train, Y_train, X_val, Y_val,\n",
    "    )\n",
    "    train_history_improved, val_history_improved= trainer_improved.train(\n",
    "        num_epochs)\n",
    "    \n",
    "    return train_history_improved, val_history_improved"
   ]
  },
  {
   "cell_type": "code",
   "execution_count": 4,
   "metadata": {},
   "outputs": [],
   "source": [
    "def compare_plot(train_history, val_history, train_history_improved, val_history_improved, description: str):\n",
    "    plt.subplot(1, 2, 1)\n",
    "    utils.plot_loss(train_history[\"loss\"],\n",
    "                    \"Task 2 Model\", npoints_to_average=10)\n",
    "    utils.plot_loss(\n",
    "        train_history_improved[\"loss\"], description, npoints_to_average=10)\n",
    "    plt.ylim([0, .4])\n",
    "    plt.subplot(1, 2, 2)\n",
    "    plt.ylim([0.85, 1])\n",
    "    utils.plot_loss(val_history[\"accuracy\"], \"Task 2 Model\")\n",
    "    utils.plot_loss(\n",
    "        val_history_improved[\"accuracy\"], description)\n",
    "    plt.ylabel(\"Validation Accuracy\")\n",
    "    plt.legend()\n",
    "    plt.show()\n"
   ]
  },
  {
   "cell_type": "code",
   "execution_count": null,
   "metadata": {},
   "outputs": [],
   "source": [
    "def compare_all_plots(train_history, val_history, train_histories_improved: list, val_histories_improved:list):\n",
    "    plt.subplot(1, 2, 1)\n",
    "    utils.plot_loss(train_history[\"loss\"],\n",
    "                    \"Task 2 Model\", npoints_to_average=10)\n",
    "    for train_history_improved in train_histories_improved:\n",
    "        utils.plot_loss(\n",
    "            train_history_improved[\"loss\"], train_history_improved[\"Description\"], npoints_to_average=10)\n",
    "    plt.ylim([0, .4])\n",
    "    plt.subplot(1, 2, 2)\n",
    "    plt.ylim([0.85, 1])\n",
    "    utils.plot_loss(val_history[\"accuracy\"], \"Task 2 Model\")\n",
    "    for val_history_improved in val_histories_improved:\n",
    "        utils.plot_loss(\n",
    "            val_history_improved[\"accuracy\"], val_history_improved[\"Description\"])\n",
    "    plt.ylabel(\"Validation Accuracy\")\n",
    "    plt.legend()\n",
    "    plt.show()"
   ]
  },
  {
   "cell_type": "code",
   "execution_count": 7,
   "metadata": {},
   "outputs": [
    {
     "name": "stdout",
     "output_type": "stream",
     "text": [
      "Initializing weight to shape: (785, 64)\n",
      "Initializing weight to shape: (64, 10)\n",
      "Early stopping at epoch 29875\n"
     ]
    }
   ],
   "source": [
    "train_history, val_history = train_base_model()"
   ]
  },
  {
   "cell_type": "code",
   "execution_count": null,
   "metadata": {},
   "outputs": [],
   "source": [
    "train_history_improved_weight_init, val_history_improved_weight_init = improve_model(use_improved_weight_init=True)\n",
    "train_history_improved_weight_init[\"Description\"] = \"Improved weight init\"\n",
    "val_history_improved_weight_init[\"Description\"] = \"Improved weight init\""
   ]
  },
  {
   "cell_type": "code",
   "execution_count": null,
   "metadata": {},
   "outputs": [],
   "source": [
    "train_history_improved_sigmoid, val_history_improved_sigmoid = improve_model(use_improved_weight_init=True, use_improved_sigmoid=True)\n",
    "train_history_improved_sigmoid[\"Description\"] = \"Improved sigmoid\"\n",
    "val_history_improved_sigmoid[\"Description\"] = \"Improved sigmoid\""
   ]
  },
  {
   "cell_type": "code",
   "execution_count": 8,
   "metadata": {},
   "outputs": [
    {
     "name": "stdout",
     "output_type": "stream",
     "text": [
      "Initializing weight to shape: (785, 64)\n",
      "Initializing weight to shape: (64, 10)\n",
      "Early stopping at epoch 22750\n"
     ]
    }
   ],
   "source": [
    "train_history_momentum, val_history_momentum = improve_model(use_improved_weight_init=True, use_improved_sigmoid=True, use_momentum = True)\n",
    "train_history_momentum[\"Description\"] = \"Momentum\"\n",
    "val_history_momentum[\"Description\"] = \"Momentum\""
   ]
  },
  {
   "cell_type": "code",
   "execution_count": null,
   "metadata": {},
   "outputs": [],
   "source": [
    "compare_plot(train_history, val_history, train_history_improved_weight_init, val_history_improved_weight_init, \"Improved weight init\")"
   ]
  },
  {
   "cell_type": "code",
   "execution_count": null,
   "metadata": {},
   "outputs": [],
   "source": [
    "compare_plot(train_history, val_history, train_history_improved_sigmoid, val_history_improved_sigmoid, \"Improved sigmoid\")"
   ]
  },
  {
   "cell_type": "code",
   "execution_count": 9,
   "metadata": {},
   "outputs": [
    {
     "data": {
      "image/png": "[encoded data removed]",
      "text/plain": [
       "<Figure size 432x288 with 2 Axes>"
      ]
     },
     "metadata": {
      "needs_background": "light"
     },
     "output_type": "display_data"
    }
   ],
   "source": [
    "compare_plot(train_history, val_history, train_history_momentum, val_history_momentum, \"Momentum\")"
   ]
  }
 ],
 "metadata": {
  "kernelspec": {
   "display_name": "Python 3",
   "language": "python",
   "name": "python3"
  },
  "language_info": {
   "codemirror_mode": {
    "name": "ipython",
    "version": 3
   },
   "file_extension": ".py",
   "mimetype": "text/x-python",
   "name": "python",
   "nbconvert_exporter": "python",
   "pygments_lexer": "ipython3",
   "version": "3.10.5"
  },
  "orig_nbformat": 4,
  "vscode": {
   "interpreter": {
    "hash": "8c4fcee83d90034a31e2dba4cf23e6cd499b74dfaa582d524e6db637b53ec8d6"
   }
  }
 },
 "nbformat": 4,
 "nbformat_minor": 2
}
