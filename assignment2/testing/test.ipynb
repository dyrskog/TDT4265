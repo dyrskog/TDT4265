{
 "cells": [
  {
   "cell_type": "code",
   "execution_count": 1,
   "metadata": {},
   "outputs": [],
   "source": [
    "import numpy as np\n",
    "import utils\n",
    "import typing\n",
    "np.random.seed(1)"
   ]
  },
  {
   "cell_type": "code",
   "execution_count": 5,
   "metadata": {},
   "outputs": [],
   "source": [
    "def pre_process_images(X: np.ndarray):\n",
    "    \"\"\"\n",
    "    Args:\n",
    "        X: images of shape [batch size, 784] in the range (0, 255)\n",
    "    Returns:\n",
    "        X: images of shape [batch size, 785] normalized as described in task2a\n",
    "    \"\"\"\n",
    "    assert X.shape[1] == 784,\\\n",
    "        f\"X.shape[1]: {X.shape[1]}, should be 784\"\n",
    "    # TODO implement this function (Task 2a)\n",
    "    mean = np.mean(X)\n",
    "    std = np.std(X)\n",
    "    print(f'mean = {mean}, std = {std}')\n",
    "    X = (X-mean)/std\n",
    "\n",
    "    return X\n",
    "\n",
    "\n",
    "def cross_entropy_loss(targets: np.ndarray, outputs: np.ndarray):\n",
    "    \"\"\"\n",
    "    Args:\n",
    "        targets: labels/targets of each image of shape: [batch size, num_classes]\n",
    "        outputs: outputs of model of shape: [batch size, num_classes]\n",
    "    Returns:\n",
    "        Cross entropy error (float)\n",
    "    \"\"\"\n",
    "    assert targets.shape == outputs.shape,\\\n",
    "        f\"Targets shape: {targets.shape}, outputs: {outputs.shape}\"\n",
    "    \n",
    "    Cn = -targets * np.log(outputs)\n",
    "    return np.average(Cn.sum(axis=1))\n",
    "\n",
    "\n",
    "class SoftmaxModel:\n",
    "\n",
    "    def __init__(self,\n",
    "                 # Number of neurons per layer\n",
    "                 neurons_per_layer: typing.List[int],\n",
    "                 use_improved_sigmoid: bool,  # Task 3b hyperparameter\n",
    "                 use_improved_weight_init: bool,  # Task 3a hyperparameter\n",
    "                 use_relu: bool  # Task 4 hyperparameter\n",
    "                 ):\n",
    "        # Always reset random seed before weight init to get comparable results.\n",
    "        np.random.seed(1)\n",
    "        # Define number of input nodes\n",
    "        self.I = 784\n",
    "        self.use_improved_sigmoid = use_improved_sigmoid\n",
    "        self.use_relu = use_relu\n",
    "        self.use_improved_weight_init = use_improved_weight_init\n",
    "\n",
    "        # Define number of output nodes\n",
    "        # neurons_per_layer = [64, 10] indicates that we will have two layers:\n",
    "        # A hidden layer with 64 neurons and a output layer with 10 neurons.\n",
    "        self.neurons_per_layer = neurons_per_layer\n",
    "\n",
    "        # Initialize the weights\n",
    "        self.ws = []\n",
    "        prev = self.I\n",
    "        for size in self.neurons_per_layer:\n",
    "            w_shape = (prev, size)\n",
    "            print(\"Initializing weight to shape:\", w_shape)\n",
    "            w = np.zeros(w_shape)\n",
    "            self.ws.append(w)\n",
    "            prev = size\n",
    "        self.grads = [None for i in range(len(self.ws))]\n",
    "\n",
    "def one_hot_encode(Y: np.ndarray, num_classes: int):\n",
    "    \"\"\"\n",
    "    Args:\n",
    "        Y: shape [Num examples, 1]\n",
    "        num_classes: Number of classes to use for one-hot encoding\n",
    "    Returns:\n",
    "        Y: shape [Num examples, num classes]\n",
    "    \"\"\"\n",
    "    zeros = np.zeros((Y.shape[0],num_classes))\n",
    "    zeros[np.arange(Y.shape[0]), Y.squeeze()] = 1\n",
    "\n",
    "    return zeros\n",
    "\n",
    "\n",
    "def gradient_approximation_test(\n",
    "        model: SoftmaxModel, X: np.ndarray, Y: np.ndarray):\n",
    "    \"\"\"\n",
    "        Numerical approximation for gradients. Should not be edited. \n",
    "        Details about this test is given in the appendix in the assignment.\n",
    "    \"\"\"\n",
    "    epsilon = 1e-3\n",
    "    for layer_idx, w in enumerate(model.ws):\n",
    "        for i in range(w.shape[0]):\n",
    "            for j in range(w.shape[1]):\n",
    "                orig = model.ws[layer_idx][i, j].copy()\n",
    "                model.ws[layer_idx][i, j] = orig + epsilon\n",
    "                logits = model.forward(X)\n",
    "                cost1 = cross_entropy_loss(Y, logits)\n",
    "                model.ws[layer_idx][i, j] = orig - epsilon\n",
    "                logits = model.forward(X)\n",
    "                cost2 = cross_entropy_loss(Y, logits)\n",
    "                gradient_approximation = (cost1 - cost2) / (2 * epsilon)\n",
    "                model.ws[layer_idx][i, j] = orig\n",
    "                # Actual gradient\n",
    "                logits = model.forward(X)\n",
    "                model.backward(X, logits, Y)\n",
    "                difference = gradient_approximation - \\\n",
    "                    model.grads[layer_idx][i, j]\n",
    "                assert abs(difference) <= epsilon**1,\\\n",
    "                    f\"Calculated gradient is incorrect. \" \\\n",
    "                    f\"Layer IDX = {layer_idx}, i={i}, j={j}.\\n\" \\\n",
    "                    f\"Approximation: {gradient_approximation}, actual gradient: {model.grads[layer_idx][i, j]}\\n\" \\\n",
    "                    f\"If this test fails there could be errors in your cross entropy loss function, \" \\\n",
    "                    f\"forward function or backward function\""
   ]
  },
  {
   "cell_type": "code",
   "execution_count": 6,
   "metadata": {},
   "outputs": [
    {
     "name": "stdout",
     "output_type": "stream",
     "text": [
      "Initializing weight to shape: (784, 64)\n",
      "Initializing weight to shape: (64, 10)\n"
     ]
    }
   ],
   "source": [
    "neurons_per_layer = [64, 10]\n",
    "use_improved_sigmoid = True\n",
    "use_improved_weight_init = True\n",
    "use_relu = False\n",
    "model = SoftmaxModel(\n",
    "    neurons_per_layer, use_improved_sigmoid, use_improved_weight_init, use_relu)"
   ]
  },
  {
   "cell_type": "code",
   "execution_count": 11,
   "metadata": {},
   "outputs": [
    {
     "ename": "IndexError",
     "evalue": "list index out of range",
     "output_type": "error",
     "traceback": [
      "\u001b[1;31m---------------------------------------------------------------------------\u001b[0m",
      "\u001b[1;31mIndexError\u001b[0m                                Traceback (most recent call last)",
      "\u001b[1;32mc:\\Users\\joerg\\github\\TDT4265\\assignment2\\test.ipynb Cell 4\u001b[0m in \u001b[0;36m<cell line: 1>\u001b[1;34m()\u001b[0m\n\u001b[1;32m----> <a href='vscode-notebook-cell:/c%3A/Users/joerg/github/TDT4265/assignment2/test.ipynb#W3sZmlsZQ%3D%3D?line=0'>1</a>\u001b[0m ws \u001b[39m=\u001b[39m model\u001b[39m.\u001b[39;49mws[\u001b[39m2\u001b[39;49m]\n",
      "\u001b[1;31mIndexError\u001b[0m: list index out of range"
     ]
    }
   ],
   "source": [
    "ws = model.ws[0]"
   ]
  },
  {
   "cell_type": "code",
   "execution_count": 14,
   "metadata": {},
   "outputs": [
    {
     "name": "stdout",
     "output_type": "stream",
     "text": [
      "1\n",
      "0\n"
     ]
    }
   ],
   "source": [
    "for i in range(1,-1,-1):\n",
    "    print(i)"
   ]
  },
  {
   "cell_type": "code",
   "execution_count": 2,
   "metadata": {},
   "outputs": [
    {
     "name": "stdout",
     "output_type": "stream",
     "text": [
      "2\n",
      "1\n",
      "0\n"
     ]
    }
   ],
   "source": [
    "for layer in range(2, -1, -1):\n",
    "    print(layer)"
   ]
  }
 ],
 "metadata": {
  "kernelspec": {
   "display_name": "Python 3",
   "language": "python",
   "name": "python3"
  },
  "language_info": {
   "codemirror_mode": {
    "name": "ipython",
    "version": 3
   },
   "file_extension": ".py",
   "mimetype": "text/x-python",
   "name": "python",
   "nbconvert_exporter": "python",
   "pygments_lexer": "ipython3",
   "version": "3.10.5"
  },
  "orig_nbformat": 4,
  "vscode": {
   "interpreter": {
    "hash": "8c4fcee83d90034a31e2dba4cf23e6cd499b74dfaa582d524e6db637b53ec8d6"
   }
  }
 },
 "nbformat": 4,
 "nbformat_minor": 2
}
